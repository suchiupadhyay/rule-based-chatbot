{
 "cells": [
  {
   "cell_type": "code",
   "execution_count": 27,
   "id": "672c13f8",
   "metadata": {},
   "outputs": [],
   "source": [
    "import re\n",
    "import json\n",
    "import difflib"
   ]
  },
  {
   "cell_type": "code",
   "execution_count": 28,
   "id": "56d5aa6b",
   "metadata": {},
   "outputs": [
    {
     "name": "stdout",
     "output_type": "stream",
     "text": [
      "[DEBUG] Loaded intents: dict_keys(['greeting', 'what_is_mf', 'types', 'nav_info', 'how_to_invest', 'minimum_investment_amount', 'sip', 'lumpsum', 'which_is_better_sip_lumpsum', 'tax_benefits', 'taxation', 'risk', 'redemption', 'exit_load', 'regulator_info', 'contact', 'farewell', 'creator_info', 'bye'])\n"
     ]
    }
   ],
   "source": [
    "with open(\"intent_keywords.json\") as f:\n",
    "    intent_keywords = json.load(f)\n",
    "\n",
    "with open(\"intent_patterns.json\") as f:\n",
    "    intent_patterns = json.load(f)\n",
    "\n",
    "with open(\"intent_responses.json\") as f:\n",
    "    intent_responses = json.load(f)\n",
    "\n",
    "print(\"[DEBUG] Loaded intents:\", intent_keywords.keys())    \n",
    "#print(\"[DEBUG] Loaded intents:\", intent_keywords.values())   "
   ]
  },
  {
   "cell_type": "code",
   "execution_count": 29,
   "id": "bfd3321e",
   "metadata": {},
   "outputs": [],
   "source": [
    "def clean_text(user_input):\n",
    "    text = user_input.lower()\n",
    "    text = re.sub(r'[^\\w\\s]','',text)\n",
    "    text = re.sub(r'\\s+', ' ', text).strip()  \n",
    "    return text"
   ]
  },
  {
   "cell_type": "code",
   "execution_count": 30,
   "id": "a2e5b37c",
   "metadata": {},
   "outputs": [],
   "source": [
    "def match_keywords(user_input):\n",
    "    user_input_clean = clean_text(user_input)\n",
    "    user_words = re.findall(r'\\b\\w+\\b', user_input_clean)\n",
    "\n",
    "    for intent, keywords in intent_keywords.items():\n",
    "        for keyword in keywords:\n",
    "            keyword_clean = keyword.strip().lower()\n",
    "            if keyword_clean in user_words:\n",
    "                #response = intent_responses.get(intent,\"I dont have response for that\")\n",
    "                print(\"if match_keywords intent: \", intent)\n",
    "                return intent  # Return intent name, not response\n",
    "    print(\"No match -->match_keywords \")\n",
    "    return None"
   ]
  },
  {
   "cell_type": "code",
   "execution_count": 31,
   "id": "0523d35e",
   "metadata": {},
   "outputs": [],
   "source": [
    "def fuzzy_match_keyword(user_input, threshold=0.7):\n",
    "    # Flatten keyword list\n",
    "    all_keywords = []\n",
    "    for intent, kw_list in intent_keywords.items():\n",
    "        all_keywords.extend(kw_list)\n",
    "\n",
    "    matches = difflib.get_close_matches(user_input.lower(), all_keywords, n=1, cutoff=threshold)\n",
    "    return matches[0] if matches else None\n",
    "\n",
    "    # words = user_input.lower().split() # split entire sentence into words for matching\n",
    "    \n",
    "    # best_match = None\n",
    "    # best_score = 0\n",
    "\n",
    "    # for word in words:\n",
    "    #     match = difflib.get_close_matches(word, all_keywords, n=1, cutoff=threshold)\n",
    "    #     if match:\n",
    "    #          # Get actual ratio score\n",
    "    #         score = difflib.SequenceMatcher(None, word, match[0]).ratio()\n",
    "    #         if score > best_score:\n",
    "    #             best_score = score\n",
    "    #             best_match = match[0]\n",
    "\n",
    "    return best_match"
   ]
  },
  {
   "cell_type": "code",
   "execution_count": 32,
   "id": "b6915895",
   "metadata": {},
   "outputs": [],
   "source": [
    "def match_patterns(user_input):\n",
    "    user_input_clean = clean_text(user_input)\n",
    "    user_words = re.findall(r'\\b\\w+\\b', user_input_clean)\n",
    "\n",
    "    for intent, pattern_info in intent_patterns.items():\n",
    "        required_words = pattern_info.get(\"required_words\", [])\n",
    "        one_word = pattern_info.get(\"one_word\", False)\n",
    "        \n",
    "        # Check if required words match\n",
    "        if one_word:\n",
    "            for word in required_words:\n",
    "                if word.lower() in user_words:\n",
    "                    print(\"If cond match_pattern intent:\", intent)\n",
    "                    return intent        \n",
    "        else:\n",
    "            # all required words must be present (substring match allowed)\n",
    "            if all(word.lower() in user_input_clean for word in required_words):\n",
    "                print(\"else cond match_pattern intent:\", intent)\n",
    "                return intent\n",
    "    \n",
    "    print(\"no match--> match_pattern intent:\", intent)            \n",
    "    #return None\n",
    "\n"
   ]
  },
  {
   "cell_type": "code",
   "execution_count": 33,
   "id": "08b1e9a6",
   "metadata": {},
   "outputs": [],
   "source": [
    "def get_response(user_input):\n",
    "\n",
    "    # Step 1: check patterns \n",
    "    intent = match_patterns(user_input)\n",
    "    print(\"step1: intent: \", intent)\n",
    "   \n",
    "        \n",
    "    # Step 2: try keywords if no match patterns found\n",
    "    if not intent:\n",
    "        intent = match_keywords(user_input)\n",
    "\n",
    "    # Step 2.1: If still no intent, try fuzzy matching\n",
    "    if not intent:\n",
    "        close_kw = fuzzy_match_keyword(user_input)\n",
    "       \n",
    "        if close_kw:\n",
    "            # Find which intent this keyword belongs to\n",
    "            for key_intent, kw_list in intent_keywords.items():\n",
    "                if close_kw in kw_list:\n",
    "                    intent = key_intent\n",
    "                    print(f\"Fuzzy matched {user_input} to keyword '{close_kw}' for intent '{intent}'\")\n",
    "                    break\n",
    "\n",
    "\n",
    "\n",
    "    # Step 3: map intent if needed\n",
    "    # If intent is in patterns and has a \"map_to\" field, use that\n",
    "    # if intent is in patterns's required_words['nav'] then extract required words and then send to responses.json\n",
    "\n",
    "    if intent and intent in intent_patterns:\n",
    "        intent = intent_patterns[intent].get(\"map_to\", intent)\n",
    "        print(\"step3: intent get directory \", intent_patterns.get(intent,{}))  \n",
    "        print(\"step3: required words for intent:\", intent_patterns.get(intent, {}).get(\"required_words\"))\n",
    "        \n",
    "        # extract required_words from intent \n",
    "        # ## this apply if intent text is differnt in response.json file and use required_word from patterns.json to match with reqponse.json\n",
    "        ## not a suggested approach....but as per requirement did it.\n",
    "\n",
    "        required_words = intent_patterns.get(intent, {}).get(\"required_words\", [])\n",
    "        if required_words:\n",
    "            response_key = required_words[0]  # take first required word as response key\n",
    "            intent_responses.get(response_key, \"Sorry! I don't have a response for that.\")\n",
    "        else:\n",
    "            print(\"No required words found for this intent.\")\n",
    "\n",
    "    #  Step 4:\n",
    "    if intent:\n",
    "        if intent in intent_responses:\n",
    "            return intent_responses[intent]"
   ]
  },
  {
   "cell_type": "code",
   "execution_count": 34,
   "id": "e6228400",
   "metadata": {},
   "outputs": [
    {
     "name": "stdout",
     "output_type": "stream",
     "text": [
      "What user entered -->  hi\n",
      "If cond match_pattern intent: greeting\n",
      "step1: intent:  greeting\n",
      "step3: intent get directory  {'required_words': ['hello', 'hi', 'hey', 'good', 'morning', 'evening'], 'one_word': True}\n",
      "step3: required words for intent: ['hello', 'hi', 'hey', 'good', 'morning', 'evening']\n",
      "Bot:  Hello! I can help you with information about Mutual Funds in India.\n",
      "What user entered -->  tell me mf\n",
      "If cond match_pattern intent: what_is_mf\n",
      "step1: intent:  what_is_mf\n",
      "step3: intent get directory  {'required_words': ['mutual', 'fund', 'mf'], 'one_word': True}\n",
      "step3: required words for intent: ['mutual', 'fund', 'mf']\n",
      "Bot:  A mutual fund pools money from many investors to purchase a diversified portfolio of stocks, bonds, or other securities.\n",
      "What user entered -->  thanks\n",
      "If cond match_pattern intent: farewell\n",
      "step1: intent:  farewell\n",
      "step3: intent get directory  {'required_words': ['thank', 'thanks', 'thank you'], 'one_word': True}\n",
      "step3: required words for intent: ['thank', 'thanks', 'thank you']\n",
      "Bot:  You're welcome! If you have more questions later, feel free to ask.\n",
      "What user entered -->  thnaks\n",
      "no match--> match_pattern intent: bye\n",
      "step1: intent:  None\n",
      "No match -->match_keywords \n",
      "Fuzzy matched thnaks to keyword 'thanks' for intent 'farewell'\n",
      "step3: intent get directory  {'required_words': ['thank', 'thanks', 'thank you'], 'one_word': True}\n",
      "step3: required words for intent: ['thank', 'thanks', 'thank you']\n",
      "Bot:  You're welcome! If you have more questions later, feel free to ask.\n",
      "What user entered -->  bye\n",
      "If cond match_pattern intent: bye\n",
      "step1: intent:  bye\n",
      "step3: intent get directory  {'required_words': ['bye', 'goodbye', 'see you', 'take care'], 'one_word': True, 'pattern': '\\\\b(bye|goodbye|see you|take care)\\\\b', 'map_to': 'bye'}\n",
      "step3: required words for intent: ['bye', 'goodbye', 'see you', 'take care']\n",
      "Bot:  Goodbye! Have a great day.\n",
      "Bot: Goodbye!\n"
     ]
    }
   ],
   "source": [
    "while True:\n",
    "    user_input= input(\"You: \")\n",
    "   \n",
    "    if user_input.lower() in [\"exit\" ,\"quit\"]:\n",
    "        print(\"Bot: Goodbye!\")\n",
    "        break\n",
    "    print(\"What user entered --> \", user_input)\n",
    "    print(\"Bot: \",get_response(user_input))"
   ]
  },
  {
   "cell_type": "code",
   "execution_count": null,
   "id": "45fdb96e",
   "metadata": {},
   "outputs": [],
   "source": []
  },
  {
   "cell_type": "code",
   "execution_count": null,
   "id": "27085547",
   "metadata": {},
   "outputs": [],
   "source": []
  },
  {
   "cell_type": "code",
   "execution_count": null,
   "id": "90c65781",
   "metadata": {},
   "outputs": [],
   "source": []
  },
  {
   "cell_type": "code",
   "execution_count": null,
   "id": "9562a6b6",
   "metadata": {},
   "outputs": [],
   "source": []
  }
 ],
 "metadata": {
  "kernelspec": {
   "display_name": "botenv",
   "language": "python",
   "name": "python3"
  },
  "language_info": {
   "codemirror_mode": {
    "name": "ipython",
    "version": 3
   },
   "file_extension": ".py",
   "mimetype": "text/x-python",
   "name": "python",
   "nbconvert_exporter": "python",
   "pygments_lexer": "ipython3",
   "version": "3.9.19"
  }
 },
 "nbformat": 4,
 "nbformat_minor": 5
}
